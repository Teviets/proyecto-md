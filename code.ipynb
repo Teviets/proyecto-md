{
 "cells": [
  {
   "cell_type": "markdown",
   "metadata": {},
   "source": [
    "# Proyecto 1 Mineria de datos"
   ]
  },
  {
   "cell_type": "markdown",
   "metadata": {},
   "source": [
    "Se analizara el contexto economico y politico para poder encontrar estrategias apropiadas para poder invertir en la salud global"
   ]
  },
  {
   "cell_type": "code",
   "execution_count": 1,
   "metadata": {},
   "outputs": [
    {
     "name": "stderr",
     "output_type": "stream",
     "text": [
      "/tmp/ipykernel_27451/1942479250.py:2: DeprecationWarning: \n",
      "Pyarrow will become a required dependency of pandas in the next major release of pandas (pandas 3.0),\n",
      "(to allow more performant data types, such as the Arrow string type, and better interoperability with other libraries)\n",
      "but was not found to be installed on your system.\n",
      "If this would cause problems for you,\n",
      "please provide us feedback at https://github.com/pandas-dev/pandas/issues/54466\n",
      "        \n",
      "  import pandas as pd\n"
     ]
    }
   ],
   "source": [
    "# Se importan librerias necesarias\n",
    "import pandas as pd\n",
    "import matplotlib.pyplot as plt\n",
    "import sklearn as sk"
   ]
  },
  {
   "cell_type": "code",
   "execution_count": 144,
   "metadata": {},
   "outputs": [],
   "source": [
    "# Se carga el archivo de datos\n",
    "expenditure = pd.read_csv('Expenditure.csv', encoding='latin1')\n",
    "Personnel = pd.read_csv('Personnel.csv', encoding='latin1')"
   ]
  },
  {
   "cell_type": "code",
   "execution_count": 145,
   "metadata": {},
   "outputs": [],
   "source": [
    "# Primer paso de limpieza de datos\n",
    "# Hacer que la primera fila sea el encabezado\n",
    "expenditure.columns = expenditure.iloc[0]\n",
    "expenditure = expenditure[1:]\n",
    "\n",
    "Personnel.columns = Personnel.iloc[0]\n",
    "Personnel = Personnel[1:]\n"
   ]
  },
  {
   "cell_type": "code",
   "execution_count": 146,
   "metadata": {},
   "outputs": [],
   "source": [
    "# Segundo paso de limpieza de datos\n",
    "# Cambiar el nombre de la segunda columna (La cual no tiene nombre y cuando la imprimo me muestra NaN) por Country\n",
    "expenditure = expenditure.rename(columns={expenditure.columns[1]: 'Country Name'})\n",
    "Personnel = Personnel.rename(columns={Personnel.columns[1]: 'Country Name'})"
   ]
  },
  {
   "cell_type": "code",
   "execution_count": 150,
   "metadata": {},
   "outputs": [
    {
     "name": "stderr",
     "output_type": "stream",
     "text": [
      "/tmp/ipykernel_27451/2169020170.py:6: FutureWarning: A value is trying to be set on a copy of a DataFrame or Series through chained assignment using an inplace method.\n",
      "The behavior will change in pandas 3.0. This inplace method will never work because the intermediate object on which we are setting values always behaves as a copy.\n",
      "\n",
      "For example, when doing 'df[col].method(value, inplace=True)', try using 'df.method({col: value}, inplace=True)' or df[col] = df[col].method(value) instead, to perform the operation inplace on the original object.\n",
      "\n",
      "\n",
      "  Personnel[\"Series\"] = Personnel[\"Series\"].replace(\"(number)\", \"\", inplace=True)\n"
     ]
    }
   ],
   "source": [
    "# Remplazar parte de los valores de string en la columna Series\n",
    "Personnel[\"Series\"] = Personnel[\"Series\"].str.replace(\"Health personnel: \", \"\")\n",
    "series = Personnel[\"Series\"].str.split(\" \")[1]\n",
    "\n",
    "Personnel[\"Series\"] = Personnel[\"Series\"].replace(\"(per 1000 population)\", \"\", inplace=True)\n",
    "Personnel[\"Series\"] = Personnel[\"Series\"].replace(\"(number)\", \"\", inplace=True)\n",
    "\n",
    "categorias = Personnel[\"Series\"].unique()\n",
    "#Personnel.head()\n",
    "#for categoria in categorias:\n",
    "#    Personnel[categoria] = 0\n",
    "#    Personnel.loc[Personnel[\"Series\"].str.contains(categoria), categoria] = 1#\n",
    "\n",
    "#Personnel = Personnel.drop(columns=[\"Series\"])\n",
    "#Personnel"
   ]
  },
  {
   "cell_type": "code",
   "execution_count": 151,
   "metadata": {},
   "outputs": [
    {
     "data": {
      "text/plain": [
       "array([None], dtype=object)"
      ]
     },
     "execution_count": 151,
     "metadata": {},
     "output_type": "execute_result"
    }
   ],
   "source": [
    "categorias\n"
   ]
  },
  {
   "cell_type": "code",
   "execution_count": 62,
   "metadata": {},
   "outputs": [
    {
     "name": "stdout",
     "output_type": "stream",
     "text": [
      "-----------Expenditure-----------\n",
      "1\n",
      "4                                                                                                             object\n",
      "Country Name                                                                                                  object\n",
      "2005                                                                                                          object\n",
      "Current health expenditure (% of GDP)                                                                         object\n",
      "9.9                                                                                                           object\n",
      "Data based on calendar year (January 1 to December 31).                                                       object\n",
      "World Health Organization (WHO), Geneva, WHO Global Health Expenditure database, last accessed April 2023.    object\n",
      "dtype: object\n",
      "-----------Personnel-----------\n",
      "1\n",
      "4                                                                                                                      object\n",
      "Country Name                                                                                                           object\n",
      "2001                                                                                                                   object\n",
      "Health personnel: Physicians (number)                                                                                  object\n",
      "4,104                                                                                                                  object\n",
      "NaN                                                                                                                    object\n",
      "World Health Organisation (WHO), Geneva, WHO Global Health Workforce statistics database, last accessed April 2023.    object\n",
      "dtype: object\n"
     ]
    }
   ],
   "source": [
    "# dtypes de los dataframes\n",
    "print(\"-----------Expenditure-----------\")\n",
    "print(expenditure.dtypes)\n",
    "print(\"-----------Personnel-----------\")\n",
    "print(Personnel.dtypes)"
   ]
  },
  {
   "cell_type": "code",
   "execution_count": 92,
   "metadata": {},
   "outputs": [
    {
     "data": {
      "text/html": [
       "<div>\n",
       "<style scoped>\n",
       "    .dataframe tbody tr th:only-of-type {\n",
       "        vertical-align: middle;\n",
       "    }\n",
       "\n",
       "    .dataframe tbody tr th {\n",
       "        vertical-align: top;\n",
       "    }\n",
       "\n",
       "    .dataframe thead th {\n",
       "        text-align: right;\n",
       "    }\n",
       "</style>\n",
       "<table border=\"1\" class=\"dataframe\">\n",
       "  <thead>\n",
       "    <tr style=\"text-align: right;\">\n",
       "      <th></th>\n",
       "      <th>Region/Country/Area</th>\n",
       "      <th>Country Name</th>\n",
       "      <th>Year</th>\n",
       "      <th>Series</th>\n",
       "      <th>Value</th>\n",
       "      <th>Footnotes</th>\n",
       "      <th>Source</th>\n",
       "    </tr>\n",
       "  </thead>\n",
       "  <tbody>\n",
       "    <tr>\n",
       "      <th>1</th>\n",
       "      <td>4</td>\n",
       "      <td>Afghanistan</td>\n",
       "      <td>2001</td>\n",
       "      <td>Health personnel: Physicians (number)</td>\n",
       "      <td>4,104</td>\n",
       "      <td>NaN</td>\n",
       "      <td>World Health Organisation (WHO), Geneva, WHO G...</td>\n",
       "    </tr>\n",
       "    <tr>\n",
       "      <th>2</th>\n",
       "      <td>4</td>\n",
       "      <td>Afghanistan</td>\n",
       "      <td>2001</td>\n",
       "      <td>Health personnel: Physicians (per 1000 populat...</td>\n",
       "      <td>0.2</td>\n",
       "      <td>NaN</td>\n",
       "      <td>World Health Organisation (WHO), Geneva, WHO G...</td>\n",
       "    </tr>\n",
       "    <tr>\n",
       "      <th>3</th>\n",
       "      <td>4</td>\n",
       "      <td>Afghanistan</td>\n",
       "      <td>2001</td>\n",
       "      <td>Health personnel: Pharmacists (number)</td>\n",
       "      <td>525</td>\n",
       "      <td>NaN</td>\n",
       "      <td>World Health Organisation (WHO), Geneva, WHO G...</td>\n",
       "    </tr>\n",
       "    <tr>\n",
       "      <th>4</th>\n",
       "      <td>4</td>\n",
       "      <td>Afghanistan</td>\n",
       "      <td>2001</td>\n",
       "      <td>Health personnel: Pharmacists (per 1000 popula...</td>\n",
       "      <td>0.0</td>\n",
       "      <td>NaN</td>\n",
       "      <td>World Health Organisation (WHO), Geneva, WHO G...</td>\n",
       "    </tr>\n",
       "    <tr>\n",
       "      <th>5</th>\n",
       "      <td>4</td>\n",
       "      <td>Afghanistan</td>\n",
       "      <td>2005</td>\n",
       "      <td>Health personnel: Pharmacists (number)</td>\n",
       "      <td>900</td>\n",
       "      <td>NaN</td>\n",
       "      <td>World Health Organisation (WHO), Geneva, WHO G...</td>\n",
       "    </tr>\n",
       "    <tr>\n",
       "      <th>...</th>\n",
       "      <td>...</td>\n",
       "      <td>...</td>\n",
       "      <td>...</td>\n",
       "      <td>...</td>\n",
       "      <td>...</td>\n",
       "      <td>...</td>\n",
       "      <td>...</td>\n",
       "    </tr>\n",
       "    <tr>\n",
       "      <th>5880</th>\n",
       "      <td>716</td>\n",
       "      <td>Zimbabwe</td>\n",
       "      <td>2020</td>\n",
       "      <td>Health personnel: Dentists (per 1000 population)</td>\n",
       "      <td>0.0</td>\n",
       "      <td>NaN</td>\n",
       "      <td>World Health Organisation (WHO), Geneva, WHO G...</td>\n",
       "    </tr>\n",
       "    <tr>\n",
       "      <th>5881</th>\n",
       "      <td>716</td>\n",
       "      <td>Zimbabwe</td>\n",
       "      <td>2020</td>\n",
       "      <td>Health personnel: Pharmacists (number)</td>\n",
       "      <td>1,600</td>\n",
       "      <td>NaN</td>\n",
       "      <td>World Health Organisation (WHO), Geneva, WHO G...</td>\n",
       "    </tr>\n",
       "    <tr>\n",
       "      <th>5882</th>\n",
       "      <td>716</td>\n",
       "      <td>Zimbabwe</td>\n",
       "      <td>2020</td>\n",
       "      <td>Health personnel: Pharmacists (per 1000 popula...</td>\n",
       "      <td>0.1</td>\n",
       "      <td>NaN</td>\n",
       "      <td>World Health Organisation (WHO), Geneva, WHO G...</td>\n",
       "    </tr>\n",
       "    <tr>\n",
       "      <th>5883</th>\n",
       "      <td>716</td>\n",
       "      <td>Zimbabwe</td>\n",
       "      <td>2020</td>\n",
       "      <td>Health personnel: Nurses and midwives (number)</td>\n",
       "      <td>31,792</td>\n",
       "      <td>NaN</td>\n",
       "      <td>World Health Organisation (WHO), Geneva, WHO G...</td>\n",
       "    </tr>\n",
       "    <tr>\n",
       "      <th>5884</th>\n",
       "      <td>716</td>\n",
       "      <td>Zimbabwe</td>\n",
       "      <td>2020</td>\n",
       "      <td>Health personnel: Nurses and midwives personne...</td>\n",
       "      <td>2.0</td>\n",
       "      <td>NaN</td>\n",
       "      <td>World Health Organisation (WHO), Geneva, WHO G...</td>\n",
       "    </tr>\n",
       "  </tbody>\n",
       "</table>\n",
       "<p>5884 rows × 7 columns</p>\n",
       "</div>"
      ],
      "text/plain": [
       "0    Region/Country/Area Country Name  Year  \\\n",
       "1                      4  Afghanistan  2001   \n",
       "2                      4  Afghanistan  2001   \n",
       "3                      4  Afghanistan  2001   \n",
       "4                      4  Afghanistan  2001   \n",
       "5                      4  Afghanistan  2005   \n",
       "...                  ...          ...   ...   \n",
       "5880                 716     Zimbabwe  2020   \n",
       "5881                 716     Zimbabwe  2020   \n",
       "5882                 716     Zimbabwe  2020   \n",
       "5883                 716     Zimbabwe  2020   \n",
       "5884                 716     Zimbabwe  2020   \n",
       "\n",
       "0                                                Series   Value Footnotes  \\\n",
       "1                 Health personnel: Physicians (number)   4,104       NaN   \n",
       "2     Health personnel: Physicians (per 1000 populat...     0.2       NaN   \n",
       "3                Health personnel: Pharmacists (number)     525       NaN   \n",
       "4     Health personnel: Pharmacists (per 1000 popula...     0.0       NaN   \n",
       "5                Health personnel: Pharmacists (number)     900       NaN   \n",
       "...                                                 ...     ...       ...   \n",
       "5880   Health personnel: Dentists (per 1000 population)     0.0       NaN   \n",
       "5881             Health personnel: Pharmacists (number)   1,600       NaN   \n",
       "5882  Health personnel: Pharmacists (per 1000 popula...     0.1       NaN   \n",
       "5883     Health personnel: Nurses and midwives (number)  31,792       NaN   \n",
       "5884  Health personnel: Nurses and midwives personne...     2.0       NaN   \n",
       "\n",
       "0                                                Source  \n",
       "1     World Health Organisation (WHO), Geneva, WHO G...  \n",
       "2     World Health Organisation (WHO), Geneva, WHO G...  \n",
       "3     World Health Organisation (WHO), Geneva, WHO G...  \n",
       "4     World Health Organisation (WHO), Geneva, WHO G...  \n",
       "5     World Health Organisation (WHO), Geneva, WHO G...  \n",
       "...                                                 ...  \n",
       "5880  World Health Organisation (WHO), Geneva, WHO G...  \n",
       "5881  World Health Organisation (WHO), Geneva, WHO G...  \n",
       "5882  World Health Organisation (WHO), Geneva, WHO G...  \n",
       "5883  World Health Organisation (WHO), Geneva, WHO G...  \n",
       "5884  World Health Organisation (WHO), Geneva, WHO G...  \n",
       "\n",
       "[5884 rows x 7 columns]"
      ]
     },
     "execution_count": 92,
     "metadata": {},
     "output_type": "execute_result"
    }
   ],
   "source": [
    "# Tercer paso de limpieza de datos\n",
    "# Cast de columnas\n",
    "#expenditure[\"Region/Country/Area\"].fillna(0, inplace=True)\n",
    "#expenditure[\"Region/Country/Area\"] = expenditure[\"Region/Country/Area\"].astype(int)\n",
    "#expenditure[\"Year\"].fillna(2005, inplace=True)\n",
    "#expenditure[\"Year\"] = expenditure[\"Year\"].astype(int)\n",
    "#expenditure[\"Value\"].fillna(0, inplace=True)\n",
    "#expenditure[\"Value\"] = expenditure[\"Value\"].astype(float)\n",
    "\n",
    "#Personnel[\"Region/Country/Area\"].fillna(0, inplace=True)\n",
    "#Personnel[\"Region/Country/Area\"] = Personnel[\"Region/Country/Area\"].astype(int)\n",
    "#Personnel[\"Year\"].fillna(2005, inplace=True)\n",
    "#Personnel[\"Year\"] = Personnel[\"Year\"].astype(int)\n",
    "#Personnel[\"Value\"] = Personnel[\"Value\"].str.replace(',', '.')\n",
    "#Personnel[\"Value\"].fillna(0.0, inplace=True)\n",
    "#Personnel[\"Value\"] = Personnel[\"Value\"].astype(float)"
   ]
  }
 ],
 "metadata": {
  "kernelspec": {
   "display_name": "Python 3",
   "language": "python",
   "name": "python3"
  },
  "language_info": {
   "codemirror_mode": {
    "name": "ipython",
    "version": 3
   },
   "file_extension": ".py",
   "mimetype": "text/x-python",
   "name": "python",
   "nbconvert_exporter": "python",
   "pygments_lexer": "ipython3",
   "version": "3.10.12"
  }
 },
 "nbformat": 4,
 "nbformat_minor": 2
}
